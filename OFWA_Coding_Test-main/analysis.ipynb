{
 "cells": [
  {
   "cell_type": "code",
   "execution_count": 2,
   "metadata": {},
   "outputs": [],
   "source": [
    "import pandas as pd"
   ]
  },
  {
   "cell_type": "code",
   "execution_count": null,
   "metadata": {},
   "outputs": [
    {
     "name": "stdout",
     "output_type": "stream",
     "text": [
      "{'Obuasi': None, 'Tarkwa': None, 'Prestea': None, 'Konongo': None, 'Bolgatanga': None, 'Kumasi': None, 'Takoradi': None, 'Accra': None, 'Tamale': None, 'Cape Coast': None, 'Sunyani': None, 'Wa': None, 'Ho': None, 'Koforidua': None, 'Sekondi': None, 'Techiman': None, 'Nkawkaw': None, 'Ejura': None, 'Dunkwa': None, 'Axim': None, 'Bawku': None, 'Yendi': None, 'Hohoe': None, 'Suhum': None, 'Mampong': None, 'Bibiani': None, 'Agona Swedru': None, 'Kintampo': None, 'Savelugu': None, 'Aflao': None, 'Nsawam': None, 'Asankragua': None, 'Duayaw Nkwanta': None, 'Berekum': None, 'Salaga': None, 'Bole': None, 'Damongo': None, 'Keta': None, 'Adenta': None, 'Madina': None, 'Tema': None, 'Ashaiman': None, 'Kasoa': None, 'Elmina': None, 'Apam': None, 'Winneba': None, 'Agogo': None, 'Bekwai': None, 'Oda': None, 'Aburi': None, nan: None, 'Unknown City': None}\n"
     ]
    },
    {
     "data": {
      "text/plain": [
       "52"
      ]
     },
     "execution_count": 5,
     "metadata": {},
     "output_type": "execute_result"
    }
   ],
   "source": [
    "\n",
    "df = pd.read_excel('galamsay_data.xlsx')\n",
    "\n",
    "data= dict.fromkeys(df[\"City\"].unique())\n",
    "print(data)\n",
    "\n"
   ]
  },
  {
   "cell_type": "code",
   "execution_count": null,
   "metadata": {},
   "outputs": [],
   "source": [
    "Sensei=[]\n",
    "for ann in range(0,len(df)):\n",
    "    samarai=[]\n",
    "    for city in data.keys():\n",
    "        if df.loc[0,\"City\"] == city:\n",
    "            samarai.append(df.iloc[ann,2])\n",
    "    Sensei.append(samarai)\n",
    "\n",
    "\n",
    "\n"
   ]
  },
  {
   "cell_type": "code",
   "execution_count": 47,
   "metadata": {},
   "outputs": [
    {
     "data": {
      "text/plain": [
       "[[15],\n",
       " [10],\n",
       " [8],\n",
       " [12],\n",
       " [5],\n",
       " [25],\n",
       " [18],\n",
       " [30],\n",
       " [7],\n",
       " [14],\n",
       " [9],\n",
       " [6],\n",
       " [11],\n",
       " [13],\n",
       " [20],\n",
       " [16],\n",
       " [10],\n",
       " [22],\n",
       " [8],\n",
       " [12],\n",
       " [4],\n",
       " [6],\n",
       " [9],\n",
       " [7],\n",
       " [14],\n",
       " [17],\n",
       " [10],\n",
       " [11],\n",
       " [5],\n",
       " [13],\n",
       " [9],\n",
       " [16],\n",
       " [18],\n",
       " [12],\n",
       " [6],\n",
       " [7],\n",
       " [8],\n",
       " [10],\n",
       " [25],\n",
       " [20],\n",
       " [30],\n",
       " [22],\n",
       " [19],\n",
       " [14],\n",
       " [11],\n",
       " [13],\n",
       " [16],\n",
       " [12],\n",
       " [9],\n",
       " [8],\n",
       " [10],\n",
       " [15],\n",
       " [8],\n",
       " [25],\n",
       " ['abc'],\n",
       " [-5],\n",
       " [1000],\n",
       " [6],\n",
       " ['eleven'],\n",
       " [13],\n",
       " [20],\n",
       " [16],\n",
       " [10],\n",
       " [22],\n",
       " [8],\n",
       " [12],\n",
       " [4],\n",
       " [6],\n",
       " [9],\n",
       " [7],\n",
       " [14],\n",
       " [17],\n",
       " [10],\n",
       " [11],\n",
       " [5],\n",
       " [13],\n",
       " [9],\n",
       " [16],\n",
       " [18],\n",
       " [12],\n",
       " [6],\n",
       " [7],\n",
       " [8],\n",
       " [10],\n",
       " [25],\n",
       " [20],\n",
       " [30],\n",
       " [22],\n",
       " [19],\n",
       " [14],\n",
       " [11],\n",
       " [13],\n",
       " [16],\n",
       " [12],\n",
       " [9],\n",
       " [8]]"
      ]
     },
     "execution_count": 47,
     "metadata": {},
     "output_type": "execute_result"
    },
    {
     "ename": "",
     "evalue": "",
     "output_type": "error",
     "traceback": [
      "\u001b[1;31mThe Kernel crashed while executing code in the current cell or a previous cell. \n",
      "\u001b[1;31mPlease review the code in the cell(s) to identify a possible cause of the failure. \n",
      "\u001b[1;31mClick <a href='https://aka.ms/vscodeJupyterKernelCrash'>here</a> for more info. \n",
      "\u001b[1;31mView Jupyter <a href='command:jupyter.viewOutput'>log</a> for further details."
     ]
    }
   ],
   "source": [
    "Sensei"
   ]
  },
  {
   "cell_type": "code",
   "execution_count": null,
   "metadata": {},
   "outputs": [],
   "source": []
  }
 ],
 "metadata": {
  "kernelspec": {
   "display_name": "Python 3",
   "language": "python",
   "name": "python3"
  },
  "language_info": {
   "codemirror_mode": {
    "name": "ipython",
    "version": 3
   },
   "file_extension": ".py",
   "mimetype": "text/x-python",
   "name": "python",
   "nbconvert_exporter": "python",
   "pygments_lexer": "ipython3",
   "version": "3.12.8"
  }
 },
 "nbformat": 4,
 "nbformat_minor": 2
}
